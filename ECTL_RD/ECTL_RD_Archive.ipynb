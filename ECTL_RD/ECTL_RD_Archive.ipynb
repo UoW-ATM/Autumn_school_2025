{
 "cells": [
  {
   "cell_type": "markdown",
   "id": "8759f7dd-b6af-45a6-8aa0-4b4456574e77",
   "metadata": {},
   "source": [
    "# EUROCONTROL R&D ARCHIVE"
   ]
  },
  {
   "cell_type": "code",
   "execution_count": null,
   "id": "4d421f2a-95b4-4ba0-a92f-35b65c6b7129",
   "metadata": {},
   "outputs": [],
   "source": [
    "import pandas as pd"
   ]
  },
  {
   "cell_type": "markdown",
   "id": "8b75cd23-a106-43fe-90a1-b5b958856185",
   "metadata": {},
   "source": [
    "### AIRAC"
   ]
  },
  {
   "cell_type": "code",
   "execution_count": null,
   "id": "ed65838a-f374-4b5a-88ee-0574d1103ad1",
   "metadata": {},
   "outputs": [],
   "source": [
    "# AIRAC\n",
    "df_airac = pd.read_csv('./data/202309/AIRAC_2309.csv.gz')\n",
    "df_airac.head()"
   ]
  },
  {
   "cell_type": "markdown",
   "id": "14785685-48f6-4241-bfcc-8c5e0d82a2a0",
   "metadata": {},
   "source": [
    "### FIR"
   ]
  },
  {
   "cell_type": "code",
   "execution_count": null,
   "id": "b99ef9d8-7819-446f-a07a-a4a8f22e1cb1",
   "metadata": {},
   "outputs": [],
   "source": [
    "df_FIR_2309 = pd.read_csv('./data/202309/FIR_2309.csv.gz')\n",
    "df_FIR_2309.head()"
   ]
  },
  {
   "cell_type": "code",
   "execution_count": null,
   "id": "ba2b69eb-486c-4f09-91c4-005cc4d8ebae",
   "metadata": {},
   "outputs": [],
   "source": [
    "df_FIR_2309.describe()"
   ]
  },
  {
   "cell_type": "code",
   "execution_count": null,
   "id": "72f9429e-b81c-4192-9013-bacecad3200d",
   "metadata": {},
   "outputs": [],
   "source": [
    "from ectl_plots_utilities import plot_airspace\n",
    "\n",
    "print(df_FIR_2309[df_FIR_2309['Airspace ID'].str.startswith('LF')]['Airspace ID'].drop_duplicates())\n",
    "\n",
    "fig, ax = plot_airspace(df_FIR_2309, airspace_str=\"LFBBFIR\")\n",
    "fig, ax = plot_airspace(df_FIR_2309, \"LFEEFIR\", fig, ax)\n",
    "fig, ax = plot_airspace(df_FIR_2309, \"LFFFFIR\", fig, ax)\n",
    "fig, ax = plot_airspace(df_FIR_2309, \"LFMMFIR\", fig, ax)\n",
    "fig, ax = plot_airspace(df_FIR_2309, \"LFRRFIR\", fig, ax)\n",
    "\n",
    "fig, ax = plot_airspace(df_FIR_2309, airspace_str=\"LFFFUIR\")\n"
   ]
  },
  {
   "cell_type": "markdown",
   "id": "00702cc5-5087-4d07-be7d-74063b9fde2e",
   "metadata": {},
   "source": [
    "## Routes"
   ]
  },
  {
   "cell_type": "code",
   "execution_count": null,
   "id": "e16444a6-a0b8-4e81-9a0c-cf0e67068be4",
   "metadata": {},
   "outputs": [],
   "source": [
    "# Routes\n",
    "df_routes = pd.read_csv('./data/202309/Route_2309.csv.gz')\n",
    "df_routes.head()"
   ]
  },
  {
   "cell_type": "code",
   "execution_count": null,
   "id": "b31a91a4-0c3f-4538-bc49-a03828cc86f0",
   "metadata": {},
   "outputs": [],
   "source": [
    "len(df_routes['Route ID'].drop_duplicates())"
   ]
  },
  {
   "cell_type": "code",
   "execution_count": null,
   "id": "82f390cd-4146-45ff-8672-1a9136e7f8e1",
   "metadata": {},
   "outputs": [],
   "source": [
    "from ectl_plots_utilities import plot_route\n",
    "\n",
    "print(df_routes['Route ID'].drop_duplicates())\n",
    "\n",
    "plot_route(df_routes[df_routes[\"Route ID\"] == \"AKUPO1MLRCL\"], route_id=\"AKUPO1MLRCL\")\n",
    "plot_route(df_routes[df_routes[\"Route ID\"] == \"A4\"], route_id=\"A4\")\n",
    "fig = None\n",
    "ax = None\n",
    "for r in df_routes[df_routes[\"Route ID\"].str.startswith('VIBOK')]['Route ID'].drop_duplicates():\n",
    "    fig, ax = plot_route(df_routes[df_routes[\"Route ID\"] == r], fig=fig, ax=ax, route_id=r)\n",
    "    \n"
   ]
  },
  {
   "cell_type": "markdown",
   "id": "8fe99cb3-79c4-4599-9b82-a6c9a6e82e91",
   "metadata": {},
   "source": [
    "## Flights"
   ]
  },
  {
   "cell_type": "markdown",
   "id": "ab98fd4a-6b92-487e-ad1e-4f6151869d49",
   "metadata": {},
   "source": [
    "### Flights"
   ]
  },
  {
   "cell_type": "code",
   "execution_count": null,
   "id": "51205ad5-b16f-463b-80dc-eaa6b5dc3ab9",
   "metadata": {},
   "outputs": [],
   "source": [
    "# Flights\n",
    "df_flights = pd.read_csv('./data/202309/Flights_20230901_20230930.csv.gz')\n",
    "df_flights.head()"
   ]
  },
  {
   "cell_type": "code",
   "execution_count": null,
   "id": "8ccf864d-4343-4f74-bb6e-f398f5ffa582",
   "metadata": {},
   "outputs": [],
   "source": [
    "df_flights[\"FILED OFF BLOCK TIME\"] = pd.to_datetime(df_flights[\"FILED OFF BLOCK TIME\"], format=\"%d-%m-%Y %H:%M:%S\")\n",
    "df_flights[\"FILED ARRIVAL TIME\"] = pd.to_datetime(df_flights[\"FILED ARRIVAL TIME\"], format=\"%d-%m-%Y %H:%M:%S\")\n",
    "df_flights[\"ACTUAL OFF BLOCK TIME\"] = pd.to_datetime(df_flights[\"ACTUAL ARRIVAL TIME\"], format=\"%d-%m-%Y %H:%M:%S\")\n",
    "df_flights[\"ACTUAL ARRIVAL TIME\"] = pd.to_datetime(df_flights[\"ACTUAL ARRIVAL TIME\"], format=\"%d-%m-%Y %H:%M:%S\")"
   ]
  },
  {
   "cell_type": "code",
   "execution_count": null,
   "id": "0c7ff5cd-e749-4ce6-81b1-9e9c6c12aa09",
   "metadata": {},
   "outputs": [],
   "source": [
    "len(df_flights)"
   ]
  },
  {
   "cell_type": "code",
   "execution_count": null,
   "id": "f4383693-5a5c-4b27-bb44-7b06b5420a40",
   "metadata": {},
   "outputs": [],
   "source": [
    "df_flights.iloc[0]"
   ]
  },
  {
   "cell_type": "code",
   "execution_count": null,
   "id": "05c2c6e2-6a8a-443e-a6fd-67e7f6dcd6b9",
   "metadata": {},
   "outputs": [],
   "source": [
    "# Example -- Flights departing from Heathrow\n",
    "df_flights[df_flights.ADEP=='EGLL']"
   ]
  },
  {
   "cell_type": "code",
   "execution_count": null,
   "id": "0fe53b66-bea5-42d6-9a34-4be7ce00387b",
   "metadata": {},
   "outputs": [],
   "source": [
    "## Plot histogram departures and arrivals\n",
    "from ectl_plots_utilities import plot_histogram_departures_arrivals_planned_actual\n",
    "\n",
    "# --- Select airport\n",
    "airport = \"EGLL\"\n",
    "plot_histogram_departures_arrivals_planned_actual(df_flights, airport)\n"
   ]
  },
  {
   "cell_type": "markdown",
   "id": "c8d4c61e-a2a0-46ef-9d55-7b694d3d71d6",
   "metadata": {},
   "source": [
    "### Points"
   ]
  },
  {
   "cell_type": "code",
   "execution_count": null,
   "id": "d0fab1c7-0fea-4deb-96b7-f245d441fd67",
   "metadata": {},
   "outputs": [],
   "source": [
    "# Flight Points Filed\n",
    "df_points_filed = pd.read_csv('./data/202309/Flight_Points_Filed_20230901_20230930.csv.gz')\n",
    "# Flight Points Actual\n",
    "df_points_actual = pd.read_csv('./data/202309/Flight_Points_Actual_20230901_20230930.csv.gz')"
   ]
  },
  {
   "cell_type": "code",
   "execution_count": null,
   "id": "85ba35d9-284e-46d5-b67a-cddf33c09979",
   "metadata": {},
   "outputs": [],
   "source": [
    "# Example of a flight\n",
    "ectrl_id = 265837588\n",
    "df_points_filed[df_points_filed[\"ECTRL ID\"] == ectrl_id].head()\n"
   ]
  },
  {
   "cell_type": "code",
   "execution_count": null,
   "id": "2b2c4b9f-c092-4721-b3e8-db25daec9c12",
   "metadata": {},
   "outputs": [],
   "source": [
    "from ectl_plots_utilities import plot_trajectory\n",
    "\n",
    "# Plot some flights\n",
    "\n",
    "ectrl_id = 265837588\n",
    "# Filed\n",
    "fig, ax = plot_trajectory(df_points_filed[df_points_filed[\"ECTRL ID\"] == ectrl_id], ectrl_id=str(ectrl_id), label=\"Filed \"+str(ectrl_id))\n",
    "# Actual\n",
    "fig, ax = plot_trajectory(df_points_actual[df_points_actual[\"ECTRL ID\"] == ectrl_id], ectrl_id=str(ectrl_id), label=\"Actual \"+str(ectrl_id),                           fig=fig, ax=ax, color='red')\n",
    "\n",
    "ectrl_id = 265837584\n",
    "# Filed\n",
    "fig, ax = plot_trajectory(df_points_filed[df_points_filed[\"ECTRL ID\"] == ectrl_id], ectrl_id=str(ectrl_id), label=\"Filed \"+str(ectrl_id))\n",
    "# Actual\n",
    "fig, ax = plot_trajectory(df_points_actual[df_points_actual[\"ECTRL ID\"] == ectrl_id], ectrl_id=str(ectrl_id), label=\"Actual \"+str(ectrl_id),                           fig=fig, ax=ax, color='red')\n"
   ]
  },
  {
   "cell_type": "markdown",
   "id": "f581cf70-4b0c-4468-b1df-dffe6341ccd4",
   "metadata": {},
   "source": [
    "### FIRs"
   ]
  },
  {
   "cell_type": "code",
   "execution_count": null,
   "id": "7420e067-77ec-4e8e-a45b-4252f565f329",
   "metadata": {},
   "outputs": [],
   "source": [
    "# Flight FIRS Filed\n",
    "df_f_firs_filed = pd.read_csv('./data/202309/Flight_FIRs_Filed_20230901_20230930.csv.gz')\n",
    "\n",
    "# Flight FIRS Actual\n",
    "df_f_firs_actual = pd.read_csv('./data/202309/Flight_FIRs_Actual_20230901_20230930.csv.gz')\n",
    "\n",
    "# --- Parse datetimes\n",
    "for df in [df_f_firs_filed, df_f_firs_actual]:\n",
    "    df[\"Entry Time\"] = pd.to_datetime(df[\"Entry Time\"], format=\"%d-%m-%Y %H:%M:%S\")\n",
    "    df[\"Exit Time\"] = pd.to_datetime(df[\"Exit Time\"], format=\"%d-%m-%Y %H:%M:%S\")\n"
   ]
  },
  {
   "cell_type": "code",
   "execution_count": null,
   "id": "a5587295-9c44-423d-b4db-089f8cef1608",
   "metadata": {},
   "outputs": [],
   "source": [
    "df_f_firs_filed[df_f_firs_filed['ECTRL ID']==265837588]"
   ]
  },
  {
   "cell_type": "code",
   "execution_count": null,
   "id": "5a520acd-6425-44a4-b31c-cf9f0e35c06e",
   "metadata": {},
   "outputs": [],
   "source": [
    "df_f_firs_actual[df_f_firs_actual['ECTRL ID']==265837588]"
   ]
  },
  {
   "cell_type": "code",
   "execution_count": null,
   "id": "0e06dfeb-b1c9-4b49-afa8-17a986a1fdf3",
   "metadata": {},
   "outputs": [],
   "source": [
    "# Example of computing difference between plan and actual on crossing the FIRS\n",
    "\n",
    "# --- Select a specific ECTRL ID\n",
    "ectrl_id = 265837588\n",
    "filed_sel = df_f_firs_filed[df_f_firs_filed[\"ECTRL ID\"] == ectrl_id]\n",
    "actual_sel = df_f_firs_actual[df_f_firs_actual[\"ECTRL ID\"] == ectrl_id]\n",
    "\n",
    "\n",
    "# --- Merge filed and actual by FIR ID (and maybe Sequence Number)\n",
    "merged = pd.merge(\n",
    "    filed_sel,\n",
    "    actual_sel,\n",
    "    on=[\"Sequence Number\", \"FIR ID\"],\n",
    "    suffixes=(\"_filed\", \"_actual\")\n",
    ")\n",
    "\n",
    "# --- Compute entry and exit time differences (in minutes)\n",
    "merged[\"Entry Δ (min)\"] = (merged[\"Entry Time_actual\"] - merged[\"Entry Time_filed\"]).dt.total_seconds() / 60\n",
    "merged[\"Exit Δ (min)\"] = (merged[\"Exit Time_actual\"] - merged[\"Exit Time_filed\"]).dt.total_seconds() / 60\n",
    "merged[\"Extra time in FIR\"] = merged[\"Exit Δ (min)\"] - merged[\"Entry Δ (min)\"]\n",
    "\n",
    "# --- Compute average timing shift per ECTRL ID (optional)\n",
    "avg_shift = merged.groupby(\"Sequence Number\")[[\"Entry Δ (min)\", \"Exit Δ (min)\"]].mean()\n",
    "\n",
    "# --- Display for one flight\n",
    "print(merged[[\"Sequence Number\", \"FIR ID\", \"Entry Δ (min)\", \"Exit Δ (min)\", \"Extra time in FIR\"]])\n",
    "\n"
   ]
  },
  {
   "cell_type": "markdown",
   "id": "d675617d-9c03-454b-8168-b6874d5ef7c1",
   "metadata": {},
   "source": [
    "### AUAs\n",
    "#### ATC Unit Airspaces"
   ]
  },
  {
   "cell_type": "code",
   "execution_count": null,
   "id": "09d24caf-9d15-44b0-8201-3f59d97cd19c",
   "metadata": {},
   "outputs": [],
   "source": [
    "# Flight AUAs\n",
    "df_f_auas = pd.read_csv('./data/202309/Flight_AUAs_Filed_20230901_20230930.csv.gz')\n",
    "df_a_auas = pd.read_csv('./data/202309/Flight_AUAs_Actual_20230901_20230930.csv.gz')\n",
    "df_f_auas.head()"
   ]
  },
  {
   "cell_type": "code",
   "execution_count": null,
   "id": "56e9cc60-3f37-456e-82a6-d493e324c09e",
   "metadata": {},
   "outputs": [],
   "source": [
    "len(df_f_auas)"
   ]
  },
  {
   "cell_type": "code",
   "execution_count": null,
   "id": "8de6cb08-e166-499b-a4f1-1877b05059a0",
   "metadata": {},
   "outputs": [],
   "source": [
    "# CTA control area --> Usually above Control Zones (CTR)\n",
    "# UTA upper control area (higher airspace)\n",
    "# TMA terminal manouver area (around airport(s))\n",
    "# CTR Control Zone (from ground (around airport))\n",
    "df_f_auas[df_f_auas['ECTRL ID']==265835879]#265837588]"
   ]
  },
  {
   "cell_type": "code",
   "execution_count": null,
   "id": "7dfda9ac-fbab-48a7-8b16-b1afa32facb8",
   "metadata": {},
   "outputs": [],
   "source": [
    "# List of TMAs\n",
    "df_f_auas[df_f_auas['AUA ID'].str.endswith('TMA')]['AUA ID'].drop_duplicates()"
   ]
  },
  {
   "cell_type": "code",
   "execution_count": null,
   "id": "e832f44c-3063-4590-85a6-09b4bedb2f3b",
   "metadata": {},
   "outputs": [],
   "source": [
    "df_f_auas[df_f_auas['AUA ID']=='EGTTICTA']"
   ]
  }
 ],
 "metadata": {
  "kernelspec": {
   "display_name": "mmx-3_10",
   "language": "python",
   "name": "mmx-3_10"
  },
  "language_info": {
   "codemirror_mode": {
    "name": "ipython",
    "version": 3
   },
   "file_extension": ".py",
   "mimetype": "text/x-python",
   "name": "python",
   "nbconvert_exporter": "python",
   "pygments_lexer": "ipython3",
   "version": "3.10.12"
  }
 },
 "nbformat": 4,
 "nbformat_minor": 5
}
