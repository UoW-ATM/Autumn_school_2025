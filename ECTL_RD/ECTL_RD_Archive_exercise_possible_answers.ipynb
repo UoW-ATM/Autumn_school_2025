{
 "cells": [
  {
   "cell_type": "code",
   "execution_count": null,
   "id": "480c5412-8c20-41bf-b3b4-50c719c45608",
   "metadata": {},
   "outputs": [],
   "source": [
    "import pandas as pd"
   ]
  },
  {
   "cell_type": "markdown",
   "id": "2812a6e6-c91c-433f-a5f7-7a4ac7b020eb",
   "metadata": {},
   "source": [
    "### Plot all trajectories between two airports"
   ]
  },
  {
   "cell_type": "code",
   "execution_count": null,
   "id": "9f0861e4-d5bb-4080-9490-b6fd57810460",
   "metadata": {},
   "outputs": [],
   "source": [
    "## Parameters\n",
    "airport_orig = 'EGLL' # Heathrow\n",
    "airport_dest = 'LGAV' # Athens\n",
    "day='15-09-2023'"
   ]
  },
  {
   "cell_type": "code",
   "execution_count": null,
   "id": "411b7864-0dc8-44ee-8297-5e5404ea64a3",
   "metadata": {},
   "outputs": [],
   "source": [
    "## Read input data needed\n",
    "## -- flights and points filed\n",
    "## -- for flights transform times to datetime\n",
    "\n",
    "# Flights\n",
    "df_flights = pd.read_csv('./data/202309/Flights_20230901_20230930.csv.gz')\n",
    "df_flights[\"FILED OFF BLOCK TIME\"] = pd.to_datetime(df_flights[\"FILED OFF BLOCK TIME\"], format=\"%d-%m-%Y %H:%M:%S\")\n",
    "df_flights[\"FILED ARRIVAL TIME\"] = pd.to_datetime(df_flights[\"FILED ARRIVAL TIME\"], format=\"%d-%m-%Y %H:%M:%S\")\n",
    "df_flights[\"ACTUAL OFF BLOCK TIME\"] = pd.to_datetime(df_flights[\"ACTUAL ARRIVAL TIME\"], format=\"%d-%m-%Y %H:%M:%S\")\n",
    "df_flights[\"ACTUAL ARRIVAL TIME\"] = pd.to_datetime(df_flights[\"ACTUAL ARRIVAL TIME\"], format=\"%d-%m-%Y %H:%M:%S\")\n",
    "\n",
    "# Flight Points Filed\n",
    "df_points_filed = pd.read_csv('./data/202309/Flight_Points_Filed_20230901_20230930.csv.gz')"
   ]
  },
  {
   "cell_type": "code",
   "execution_count": null,
   "id": "7ad10371-4a0e-46d2-af26-15cf69d8965c",
   "metadata": {},
   "outputs": [],
   "source": [
    "## Filter flights between the two airports\n",
    "\n",
    "# Filter airport\n",
    "df_f = df_flights[(df_flights.ADEP==airport_orig) & (df_flights.ADES==airport_dest)].copy()\n",
    "\n",
    "# Filter date arrival time\n",
    "df_f = df_f[df_f['FILED ARRIVAL TIME'].apply(lambda x: x.date()==pd.to_datetime(day, format='%d-%m-%Y').date())].copy()\n"
   ]
  },
  {
   "cell_type": "code",
   "execution_count": null,
   "id": "9c504f84-6def-41b8-b782-605969c37d85",
   "metadata": {},
   "outputs": [],
   "source": [
    "# Print the number of flights arriving\n",
    "print(\"Number flights between\", airport_orig, \"and\", airport_dest, \"are\", len(df_f))"
   ]
  },
  {
   "cell_type": "code",
   "execution_count": null,
   "id": "a44b0e1f-a4fe-4219-9d23-e339d561d7a3",
   "metadata": {},
   "outputs": [],
   "source": [
    "## Filtering trajectory points\n",
    "\n",
    "# Keep only trajectories arriving to the airport (use merge)\n",
    "df_points_filed_f = df_points_filed.merge(df_f, on='ECTRL ID')"
   ]
  },
  {
   "cell_type": "code",
   "execution_count": null,
   "id": "61a0f1ce-8501-40e6-afd6-87fbf3c84802",
   "metadata": {},
   "outputs": [],
   "source": [
    "## Plot trajectories between airports\n",
    "from ectl_plots_utilities import plot_trajectory\n",
    "\n",
    "f = None\n",
    "a = None\n",
    "for f in df_points_filed_f['ECTRL ID'].drop_duplicates():\n",
    "    # Plot trajectories of flights filled\n",
    "    f,a = plot_trajectory(df_points_filed_f[df_points_filed_f['ECTRL ID']==f], label=f, fig=f, ax=a)\n"
   ]
  },
  {
   "cell_type": "markdown",
   "id": "500200d7-84e4-45ec-aee8-051fe3b7ecfd",
   "metadata": {},
   "source": [
    "### Arrivals at a given airport"
   ]
  },
  {
   "cell_type": "code",
   "execution_count": null,
   "id": "2c6a0536-a114-4ff2-b5ef-94692745948e",
   "metadata": {},
   "outputs": [],
   "source": [
    "## Parameters\n",
    "# Airport id\n",
    "airport_id = 'EDDF'\n",
    "# Day of interest\n",
    "day='15-09-2023'\n",
    "# Altitude cut trajectory\n",
    "FL_max = 120"
   ]
  },
  {
   "cell_type": "code",
   "execution_count": null,
   "id": "e1917008-3f61-4c46-87e5-9290247cc186",
   "metadata": {},
   "outputs": [],
   "source": [
    "## Read input data needed\n",
    "## -- flights and points filed and actual\n",
    "## -- for flights transform times to datetime\n",
    "\n",
    "# Flights\n",
    "df_flights = pd.read_csv('./data/202309/Flights_20230901_20230930.csv.gz')\n",
    "df_flights[\"FILED OFF BLOCK TIME\"] = pd.to_datetime(df_flights[\"FILED OFF BLOCK TIME\"], format=\"%d-%m-%Y %H:%M:%S\")\n",
    "df_flights[\"FILED ARRIVAL TIME\"] = pd.to_datetime(df_flights[\"FILED ARRIVAL TIME\"], format=\"%d-%m-%Y %H:%M:%S\")\n",
    "df_flights[\"ACTUAL OFF BLOCK TIME\"] = pd.to_datetime(df_flights[\"ACTUAL ARRIVAL TIME\"], format=\"%d-%m-%Y %H:%M:%S\")\n",
    "df_flights[\"ACTUAL ARRIVAL TIME\"] = pd.to_datetime(df_flights[\"ACTUAL ARRIVAL TIME\"], format=\"%d-%m-%Y %H:%M:%S\")\n",
    "\n",
    "# Flight Points Filed\n",
    "df_points_filed = pd.read_csv('./data/202309/Flight_Points_Filed_20230901_20230930.csv.gz')\n",
    "# Flight Points Actual\n",
    "df_points_actual = pd.read_csv('./data/202309/Flight_Points_Actual_20230901_20230930.csv.gz')"
   ]
  },
  {
   "cell_type": "code",
   "execution_count": null,
   "id": "b219e261-fb9e-455b-a669-28eadc7fd47b",
   "metadata": {},
   "outputs": [],
   "source": [
    "## Filter flights going to a given airport on a given day\n",
    "\n",
    "# Filter airport\n",
    "df_f = df_flights[df_flights.ADES==airport_id].copy()\n",
    "\n",
    "# Filter date arrival time\n",
    "df_f = df_f[df_f['FILED ARRIVAL TIME'].apply(lambda x: x.date()==pd.to_datetime(day, format='%d-%m-%Y').date())].copy()\n"
   ]
  },
  {
   "cell_type": "code",
   "execution_count": null,
   "id": "b4d2e154-ddf9-4756-b649-280ebeaa2749",
   "metadata": {},
   "outputs": [],
   "source": [
    "# Print the number of flights arriving\n",
    "print(\"Number flights arriving at\", airport_id, \"are: \", len(df_f))"
   ]
  },
  {
   "cell_type": "code",
   "execution_count": null,
   "id": "dff29119-a2d2-46b5-85b3-24276e3d45e3",
   "metadata": {},
   "outputs": [],
   "source": [
    "## Plot histogram of the distance of flights arriving to airport (actual)\n",
    "df_f['Actual Distance Flown (nm)'].hist(bins=100)"
   ]
  },
  {
   "cell_type": "code",
   "execution_count": null,
   "id": "a2d7a835-fb44-4f99-a8be-c0507fccd754",
   "metadata": {},
   "outputs": [],
   "source": [
    "## Plot histogram of Arrival Time as planned per hour\n",
    "\n",
    "# Extract the hour (0–23)\n",
    "df_f[\"arrival_hour_filed\"] = df_f[\"FILED ARRIVAL TIME\"].dt.hour\n",
    "\n",
    "# Plot histogram\n",
    "import matplotlib.pyplot as plt\n",
    "plt.figure(figsize=(10, 6))\n",
    "plt.hist(df_f[\"arrival_hour_filed\"].dropna(), bins=24, range=(0, 24), edgecolor=\"black\", color=\"skyblue\")\n",
    "plt.xticks(range(0, 25))\n",
    "plt.xlabel(\"Filed Arrival Hour (UTC)\")\n",
    "plt.ylabel(\"Number of Flights\")\n",
    "plt.title(\"Distribution of Filed Arrival Times by Hour\")\n",
    "plt.grid(alpha=0.3)\n",
    "plt.show()"
   ]
  },
  {
   "cell_type": "code",
   "execution_count": null,
   "id": "df26e4db-96ea-4e10-9fd0-efe1b35871b8",
   "metadata": {},
   "outputs": [],
   "source": []
  },
  {
   "cell_type": "code",
   "execution_count": null,
   "id": "16d0c4b9-4e16-4210-b33a-870423f97dab",
   "metadata": {},
   "outputs": [],
   "source": [
    "## Filtering trajectory points\n",
    "\n",
    "# Keep only trajectories arriving to the airport (use merge)\n",
    "df_points_filed_f = df_points_filed.merge(df_f, on='ECTRL ID')\n",
    "df_points_actual_f = df_points_actual.merge(df_f, on='ECTRL ID')\n",
    "\n",
    "# Keep only the segment of altitude lower than the selected flights\n",
    "df_points_filed_f_filtered = df_points_filed_f[df_points_filed_f['Flight Level']<=FL_max]\n",
    "df_points_actual_f_filtered = df_points_actual_f[df_points_actual_f['Flight Level']<=FL_max]"
   ]
  },
  {
   "cell_type": "code",
   "execution_count": null,
   "id": "5e5c0e10-68c0-4f6b-95b4-e35f6d14ebb1",
   "metadata": {},
   "outputs": [],
   "source": [
    "## Keep only segments that are descending part of the flight\n",
    "\n",
    "df_points_filed_f_filtered['Diff FL next'] = df_points_filed_f_filtered['Flight Level'].shift(-1) - df_points_filed_f_filtered['Flight Level']\n",
    "df_points_actual_f_filtered['Diff FL next'] = df_points_actual_f_filtered['Flight Level'].shift(-1) - df_points_actual_f_filtered['Flight Level']\n",
    "\n",
    "# Ensure the data is sorted correctly\n",
    "df_points_actual_f_filtered = df_points_actual_f_filtered.sort_values([\"ECTRL ID\", \"Sequence Number\"])\n",
    "df_points_filed_f_filtered = df_points_filed_f_filtered.sort_values([\"ECTRL ID\", \"Sequence Number\"])\n",
    "\n",
    "def get_descent_phase(group):\n",
    "    # Find the first index where the aircraft starts descending\n",
    "    descent_start_idx = group.index[group[\"Diff FL next\"] < 0]\n",
    "    if len(descent_start_idx) == 0:\n",
    "        # No descent detected → return empty\n",
    "        return pd.DataFrame()\n",
    "    # Take the first descent point index\n",
    "    first_descent_idx = descent_start_idx[0]\n",
    "    # Keep from that point onward\n",
    "    return group.loc[first_descent_idx:]\n",
    "\n",
    "# Apply to each flight\n",
    "df_descent_only_actual = df_points_actual_f_filtered.groupby(\"ECTRL ID\", group_keys=False).apply(get_descent_phase).reset_index(drop=True)\n",
    "df_descent_only_filed = df_points_filed_f_filtered.groupby(\"ECTRL ID\", group_keys=False).apply(get_descent_phase).reset_index(drop=True)\n",
    "\n"
   ]
  },
  {
   "cell_type": "code",
   "execution_count": null,
   "id": "76f7e218-7c92-48cb-90dc-c798bc406495",
   "metadata": {},
   "outputs": [],
   "source": [
    "## Plot trajectory at arrival planned and actual for flights at a given airport on a given day\n",
    "from ectl_plots_utilities import plot_trajectory\n",
    "\n",
    "f_id = 265355412\n",
    "\n",
    "# Plot full trajectory of flight filled\n",
    "plot_trajectory(df_points_filed_f[df_points_filed_f['ECTRL ID']==f_id], label='Full')\n",
    "\n",
    "# Plot trajectory cut of flight filled\n",
    "plot_trajectory(df_points_filed_f_filtered[df_points_filed_f_filtered['ECTRL ID']==f_id], label='Cut FL')\n",
    "\n",
    "# Plot trajectory only descent\n",
    "plot_trajectory(df_descent_only_filed[df_descent_only_filed['ECTRL ID']==f_id], label='Cut FL and descent')"
   ]
  },
  {
   "cell_type": "code",
   "execution_count": null,
   "id": "5abe4820-629c-42cf-8b27-82db3e7e78b8",
   "metadata": {},
   "outputs": [],
   "source": [
    "f_id = 265355412\n",
    "\n",
    "# Plot filed and actual descent in same plot\n",
    "f,a = plot_trajectory(df_descent_only_filed[df_descent_only_filed['ECTRL ID']==f_id], label='Filed')\n",
    "plot_trajectory(df_descent_only_actual[df_descent_only_actual['ECTRL ID']==f_id], label='Actual', fig=f, ax=a, color='red')"
   ]
  },
  {
   "cell_type": "code",
   "execution_count": null,
   "id": "99249953-0bed-46bb-932b-eb034d097810",
   "metadata": {},
   "outputs": [],
   "source": [
    "f_id = 265323937\n",
    "\n",
    "# Plot filed and actual descent in same plot\n",
    "f,a = plot_trajectory(df_descent_only_filed[df_descent_only_filed['ECTRL ID']==f_id], label='Filed')\n",
    "plot_trajectory(df_descent_only_actual[df_descent_only_actual['ECTRL ID']==f_id], label='Actual', fig=f, ax=a, color='red')"
   ]
  },
  {
   "cell_type": "code",
   "execution_count": null,
   "id": "8deac00a-c96b-4eb5-a3c9-01089cac7098",
   "metadata": {},
   "outputs": [],
   "source": [
    "f_id = 265315393\n",
    "\n",
    "# Plot filed and actual descent in same plot\n",
    "f,a = plot_trajectory(df_descent_only_filed[df_descent_only_filed['ECTRL ID']==f_id], label='Filed')\n",
    "plot_trajectory(df_descent_only_actual[df_descent_only_actual['ECTRL ID']==f_id], label='Actual', fig=f, ax=a, color='red')"
   ]
  },
  {
   "cell_type": "code",
   "execution_count": null,
   "id": "71d9de1a-bcef-485b-a7bd-8d1d21dcc876",
   "metadata": {},
   "outputs": [],
   "source": []
  },
  {
   "cell_type": "markdown",
   "id": "feac31f1-69a4-4736-b1b2-756d794f1920",
   "metadata": {},
   "source": [
    "### Demand at airspace AUA closer to a given airport"
   ]
  },
  {
   "cell_type": "code",
   "execution_count": null,
   "id": "1411b66a-2159-47de-8f8d-4d65c0e151bb",
   "metadata": {},
   "outputs": [],
   "source": [
    "airport_id = 'EGLL'\n",
    "day='15-09-2023'"
   ]
  },
  {
   "cell_type": "code",
   "execution_count": null,
   "id": "3e541a49-f24d-4c22-b011-5c106deac534",
   "metadata": {},
   "outputs": [],
   "source": [
    "## Read AUAs data\n",
    "# Flight AUAs filed and actual\n",
    "df_f_auas = pd.read_csv('./data/202309/Flight_AUAs_Filed_20230901_20230930.csv.gz')\n",
    "df_a_auas = pd.read_csv('./data/202309/Flight_AUAs_Actual_20230901_20230930.csv.gz')"
   ]
  },
  {
   "cell_type": "code",
   "execution_count": null,
   "id": "fcb9cca8-3bdf-4202-a0e9-340ed29794aa",
   "metadata": {},
   "outputs": [],
   "source": [
    "# Filter flights by airport\n",
    "df_f = df_flights[df_flights.ADES==airport_id].copy()\n",
    "\n",
    "# Filter flights by date arrival time\n",
    "df_f = df_f[df_f['FILED ARRIVAL TIME'].apply(lambda x: x.date()==pd.to_datetime(day, format='%d-%m-%Y').date())].copy()\n"
   ]
  },
  {
   "cell_type": "code",
   "execution_count": null,
   "id": "69a9138a-57b1-4c08-8dc2-f82c1bfa9e64",
   "metadata": {},
   "outputs": [],
   "source": [
    "# Merge AUAs (filed and actual) with flights of that day and airport\n",
    "df_f_auas_arrival = df_f_auas.merge(df_f, on='ECTRL ID')\n"
   ]
  },
  {
   "cell_type": "code",
   "execution_count": null,
   "id": "a65db79c-ef71-461c-ac7d-565d108b4c57",
   "metadata": {},
   "outputs": [],
   "source": [
    "## Keep last AUA of filed filtered\n",
    "# Drop duplicate combinations of (ECTRL ID, AUA ID) keeping only distinct AUAs per flight\n",
    "df_unique = df_f_auas_arrival.drop_duplicates(subset=['ECTRL ID', 'AUA ID'])\n",
    "\n",
    "# Get the last AUA ID for each ECTRL ID (based on row order)\n",
    "last_auas = df_unique.groupby('ECTRL ID', as_index=False)['AUA ID'].last()\n",
    "\n",
    "# Count how many times each AUA appears\n",
    "last_auas.groupby(['AUA ID']).count()"
   ]
  },
  {
   "cell_type": "code",
   "execution_count": null,
   "id": "bf73f175-cab1-4251-aa9e-6ef91a015dad",
   "metadata": {},
   "outputs": [],
   "source": [
    "aua_interest = 'EGTTICTA'"
   ]
  },
  {
   "cell_type": "code",
   "execution_count": null,
   "id": "417dcc29-1d9e-4ab8-90bd-7c06fc6c5452",
   "metadata": {},
   "outputs": [],
   "source": [
    "## Go back to all trajectories and filter entry and exit times filed and actual in AUA and day of interest\n",
    "\n",
    "# Filter by aua interest\n",
    "df_f_auas = df_f_auas[df_f_auas['AUA ID']== aua_interest]\n",
    "df_a_auas = df_a_auas[df_a_auas['AUA ID']== aua_interest]\n",
    "\n",
    "# Transform entry and exit time to datetime\n",
    "df_f_auas['Entry Time']= pd.to_datetime(df_f_auas[\"Entry Time\"], format=\"%d-%m-%Y %H:%M:%S\")\n",
    "df_a_auas['Entry Time']= pd.to_datetime(df_a_auas[\"Entry Time\"], format=\"%d-%m-%Y %H:%M:%S\")\n",
    "df_f_auas['Exit Time']= pd.to_datetime(df_f_auas[\"Exit Time\"], format=\"%d-%m-%Y %H:%M:%S\")\n",
    "df_a_auas['Exit Time']= pd.to_datetime(df_a_auas[\"Exit Time\"], format=\"%d-%m-%Y %H:%M:%S\")\n",
    "\n",
    "# Filter by entry date = date of interest\n",
    "df_f_auas = df_f_auas[df_f_auas['Entry Time'].apply(lambda x: x.date()==pd.to_datetime(day, format='%d-%m-%Y').date())]\n",
    "df_a_auas = df_a_auas[df_a_auas['Entry Time'].apply(lambda x: x.date()==pd.to_datetime(day, format='%d-%m-%Y').date())]\n"
   ]
  },
  {
   "cell_type": "code",
   "execution_count": null,
   "id": "1d31738e-7c6d-469b-a667-5ca5fb064573",
   "metadata": {},
   "outputs": [],
   "source": [
    "def flights_in_aua(df, freq=\"15min\"):\n",
    "    # Ensure datetime type\n",
    "    df = df.copy()\n",
    "    df[\"Entry Time\"] = pd.to_datetime(df[\"Entry Time\"])\n",
    "    df[\"Exit Time\"] = pd.to_datetime(df[\"Exit Time\"])\n",
    "\n",
    "    # Floor to the nearest hour for start, ceil for end\n",
    "    start_time = df[\"Entry Time\"].min().floor(\"h\")\n",
    "    end_time = df[\"Exit Time\"].max().ceil(\"h\")\n",
    "\n",
    "    # Build time range using the chosen frequency\n",
    "    time_range = pd.date_range(start=start_time, end=end_time, freq=freq)\n",
    "\n",
    "    results = []\n",
    "    for start in time_range:\n",
    "        end = start + pd.to_timedelta(freq)\n",
    "        inside = ((df[\"Entry Time\"] < end) & (df[\"Exit Time\"] > start)).sum()\n",
    "        results.append({\"start\": start, \"end\": end, \"n_flights\": inside})\n",
    "\n",
    "    return pd.DataFrame(results)\n",
    "\n",
    "\n",
    "f_inside_f_15 = flights_in_aua(df_f_auas, freq=\"15min\")\n",
    "f_inside_a_15 = flights_in_aua(df_a_auas, freq=\"15min\")\n",
    "f_inside_f_30 = flights_in_aua(df_f_auas, freq=\"30min\")\n",
    "f_inside_a_30 = flights_in_aua(df_a_auas, freq=\"30min\")\n",
    "f_inside_f_60 = flights_in_aua(df_f_auas, freq=\"60min\")\n",
    "f_inside_a_60 = flights_in_aua(df_a_auas, freq=\"60min\")\n"
   ]
  },
  {
   "cell_type": "code",
   "execution_count": null,
   "id": "0ada2938-1871-406b-ae16-55ecb948a616",
   "metadata": {},
   "outputs": [],
   "source": [
    "import matplotlib.pyplot as plt\n",
    "\n",
    "plt.figure(figsize=(10, 5))\n",
    "plt.step(f_inside_f_15[\"start\"], f_inside_f_15[\"n_flights\"], where=\"post\", label=\"15 min f\")\n",
    "plt.step(f_inside_a_15[\"start\"], f_inside_a_15[\"n_flights\"], where=\"post\", label=\"15 min a\")\n",
    "plt.step(f_inside_f_30[\"start\"], f_inside_f_30[\"n_flights\"], where=\"post\", label=\"30 min f\")\n",
    "plt.step(f_inside_a_30[\"start\"], f_inside_a_30[\"n_flights\"], where=\"post\", label=\"30 min a\")\n",
    "plt.step(f_inside_f_60[\"start\"], f_inside_f_60[\"n_flights\"], where=\"post\", label=\"60 min f\")\n",
    "plt.step(f_inside_a_60[\"start\"], f_inside_a_60[\"n_flights\"], where=\"post\", label=\"60 min a\")\n",
    "plt.legend()\n",
    "plt.xlabel(\"Time\")\n",
    "plt.ylabel(\"Flights inside AUA\")\n",
    "plt.title(\"Number of flights inside AUA over time\")\n",
    "plt.show()\n"
   ]
  },
  {
   "cell_type": "code",
   "execution_count": null,
   "id": "a56cd288-9120-4755-89b5-82e669778d2a",
   "metadata": {},
   "outputs": [],
   "source": []
  }
 ],
 "metadata": {
  "kernelspec": {
   "display_name": "trl_autumn_school",
   "language": "python",
   "name": "trl_autumn_school"
  },
  "language_info": {
   "codemirror_mode": {
    "name": "ipython",
    "version": 3
   },
   "file_extension": ".py",
   "mimetype": "text/x-python",
   "name": "python",
   "nbconvert_exporter": "python",
   "pygments_lexer": "ipython3",
   "version": "3.12.12"
  }
 },
 "nbformat": 4,
 "nbformat_minor": 5
}
