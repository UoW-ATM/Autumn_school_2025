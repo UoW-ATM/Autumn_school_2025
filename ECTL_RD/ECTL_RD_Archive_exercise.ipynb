{
 "cells": [
  {
   "cell_type": "code",
   "execution_count": null,
   "id": "480c5412-8c20-41bf-b3b4-50c719c45608",
   "metadata": {},
   "outputs": [],
   "source": [
    "import pandas as pd"
   ]
  },
  {
   "cell_type": "markdown",
   "id": "7e0f1ca1-e6c3-46c8-860f-5469c6be5bad",
   "metadata": {},
   "source": [
    "### Plot all trajectories between two airports"
   ]
  },
  {
   "cell_type": "code",
   "execution_count": null,
   "id": "2177afb7-8eac-403f-9610-f575106a4e98",
   "metadata": {},
   "outputs": [],
   "source": [
    "## Parameters\n",
    "airport_orig = 'EGLL' # Heathrow\n",
    "airport_dest = 'LGAV' # Athens\n",
    "day='15-09-2023'"
   ]
  },
  {
   "cell_type": "code",
   "execution_count": null,
   "id": "bd380b52-f8de-46a7-9406-d1bff7266a0e",
   "metadata": {},
   "outputs": [],
   "source": [
    "## Read input data needed\n",
    "## -- flights and points filed\n",
    "## -- for flights transform times to datetime\n",
    "\n",
    "# Flights\n",
    "df_flights ="
   ]
  },
  {
   "cell_type": "code",
   "execution_count": null,
   "id": "cc5a3e59-3798-41e5-b3f8-157601f18928",
   "metadata": {},
   "outputs": [],
   "source": [
    "# Flight Points Filed\n",
    "df_points_filed ="
   ]
  },
  {
   "cell_type": "code",
   "execution_count": null,
   "id": "ffcfb342-7815-4de3-859d-c944ea123ef5",
   "metadata": {},
   "outputs": [],
   "source": [
    "## Filter flights between the two airports\n",
    "\n",
    "# Filter airport\n",
    "df_f = \n",
    "\n",
    "# Filter date arrival time\n",
    "df_f = \n"
   ]
  },
  {
   "cell_type": "code",
   "execution_count": null,
   "id": "d9ff164d-e6cf-4a31-b123-2ab84d088b5c",
   "metadata": {},
   "outputs": [],
   "source": [
    "# Print the number of flights arriving\n",
    "print(\"Number flights between\", airport_orig, \"and\", airport_dest, \"are\", len(df_f))"
   ]
  },
  {
   "cell_type": "code",
   "execution_count": null,
   "id": "373a304e-284f-479c-8539-08d7f1d6ef43",
   "metadata": {},
   "outputs": [],
   "source": [
    "## Filtering trajectory points\n",
    "\n",
    "# Keep only trajectories arriving to the airport (use merge)\n",
    "df_points_filed_f = "
   ]
  },
  {
   "cell_type": "code",
   "execution_count": null,
   "id": "9b349359-f6ac-4158-9dba-4db923391b7f",
   "metadata": {},
   "outputs": [],
   "source": [
    "## Plot trajectories between airports\n",
    "from ectl_plots_utilities import plot_trajectory\n",
    "\n",
    "f = None\n",
    "a = None\n",
    "for f in df_points_filed_f['ECTRL ID'].drop_duplicates():\n",
    "    # Plot trajectories of flights filled\n",
    "    f,a = plot_trajectory(df_points_filed_f[df_points_filed_f['ECTRL ID']==f], label=f, fig=f, ax=a)\n"
   ]
  },
  {
   "cell_type": "markdown",
   "id": "500200d7-84e4-45ec-aee8-051fe3b7ecfd",
   "metadata": {},
   "source": [
    "### Arrivals at a given airport"
   ]
  },
  {
   "cell_type": "code",
   "execution_count": null,
   "id": "2c6a0536-a114-4ff2-b5ef-94692745948e",
   "metadata": {},
   "outputs": [],
   "source": [
    "## Parameters\n",
    "# Airport id\n",
    "airport_id = 'EDDF'\n",
    "# Day of interest\n",
    "day='15-09-2023'\n",
    "# Altitude cut trajectory\n",
    "FL_max = 120"
   ]
  },
  {
   "cell_type": "code",
   "execution_count": null,
   "id": "e1917008-3f61-4c46-87e5-9290247cc186",
   "metadata": {},
   "outputs": [],
   "source": [
    "## Read input data needed\n",
    "## -- flights and points filed and actual\n",
    "## -- for flights transform times to datetime\n",
    "\n",
    "# Flights\n",
    "df_flights = \n",
    "\n",
    "\n",
    "\n",
    "# Flight Points Filed\n",
    "df_points_filed = \n",
    "\n",
    "# Flight Points Actual\n",
    "df_points_actual = "
   ]
  },
  {
   "cell_type": "code",
   "execution_count": null,
   "id": "b219e261-fb9e-455b-a669-28eadc7fd47b",
   "metadata": {},
   "outputs": [],
   "source": [
    "## Filter flights going to a given airport on a given day\n",
    "\n",
    "# Filter airport\n",
    "df_f = \n",
    "\n",
    "# Filter date arrival time\n",
    "df_f = \n"
   ]
  },
  {
   "cell_type": "code",
   "execution_count": null,
   "id": "b4d2e154-ddf9-4756-b649-280ebeaa2749",
   "metadata": {},
   "outputs": [],
   "source": [
    "# Print the number of flights arriving\n",
    "print(\"Number flights arriving at\", airport_id, \"are: \", len(df_f))"
   ]
  },
  {
   "cell_type": "code",
   "execution_count": null,
   "id": "dff29119-a2d2-46b5-85b3-24276e3d45e3",
   "metadata": {},
   "outputs": [],
   "source": [
    "## Plot histogram of the distance of flights arriving to airport (actual)\n"
   ]
  },
  {
   "cell_type": "code",
   "execution_count": null,
   "id": "a2d7a835-fb44-4f99-a8be-c0507fccd754",
   "metadata": {},
   "outputs": [],
   "source": [
    "## Plot histogram of Arrival Time as planned per hour\n",
    "\n",
    "# Extract the hour (0–23)\n",
    "df_f[\"arrival_hour_filed\"] = \n",
    "\n",
    "# Plot histogram\n",
    "\n"
   ]
  },
  {
   "cell_type": "code",
   "execution_count": null,
   "id": "df26e4db-96ea-4e10-9fd0-efe1b35871b8",
   "metadata": {},
   "outputs": [],
   "source": []
  },
  {
   "cell_type": "code",
   "execution_count": null,
   "id": "16d0c4b9-4e16-4210-b33a-870423f97dab",
   "metadata": {},
   "outputs": [],
   "source": [
    "## Filtering trajectory points\n",
    "\n",
    "# Keep only trajectories arriving to the airport (use merge)\n",
    "df_points_filed_f = \n",
    "df_points_actual_f = \n",
    "\n",
    "# Keep only the segment of altitude lower than the selected flights\n",
    "df_points_filed_f_filtered = \n",
    "df_points_actual_f_filtered = "
   ]
  },
  {
   "cell_type": "code",
   "execution_count": null,
   "id": "5e5c0e10-68c0-4f6b-95b4-e35f6d14ebb1",
   "metadata": {},
   "outputs": [],
   "source": [
    "## Keep only segments that are descending part of the flight\n",
    "\n",
    "\n",
    "# Apply to each flight\n",
    "df_descent_only_actual = \n",
    "df_descent_only_filed = \n",
    "\n"
   ]
  },
  {
   "cell_type": "code",
   "execution_count": null,
   "id": "76f7e218-7c92-48cb-90dc-c798bc406495",
   "metadata": {},
   "outputs": [],
   "source": [
    "## Plot trajectory at arrival planned and actual for flights at a given airport on a given day\n",
    "from ectl_plots_utilities import plot_trajectory\n",
    "\n",
    "# Some flights ids that are 'interesting' to visualise\n",
    "f_id = 265355412\n",
    "f_id = 265323937\n",
    "f_id = 265315393\n",
    "\n",
    "# Plot the full trajectory of the flight filled\n",
    "\n",
    "# Plot trajectory cut of flight filled\n",
    "\n",
    "# Plot trajectory only descent\n",
    "\n",
    "# Plot filed and actual descent in the same plot\n"
   ]
  },
  {
   "cell_type": "markdown",
   "id": "feac31f1-69a4-4736-b1b2-756d794f1920",
   "metadata": {},
   "source": [
    "### Demand at airspace AUA closer to a given airport"
   ]
  },
  {
   "cell_type": "code",
   "execution_count": null,
   "id": "1411b66a-2159-47de-8f8d-4d65c0e151bb",
   "metadata": {},
   "outputs": [],
   "source": [
    "airport_id = 'EGLL'\n",
    "day='15-09-2023'"
   ]
  },
  {
   "cell_type": "code",
   "execution_count": null,
   "id": "3e541a49-f24d-4c22-b011-5c106deac534",
   "metadata": {},
   "outputs": [],
   "source": [
    "## Read AUAs data\n",
    "# Flight AUAs filed and actual\n",
    "df_f_auas = \n",
    "df_a_auas = "
   ]
  },
  {
   "cell_type": "code",
   "execution_count": null,
   "id": "fcb9cca8-3bdf-4202-a0e9-340ed29794aa",
   "metadata": {},
   "outputs": [],
   "source": [
    "# Filter flights by airport\n",
    "df_f = \n",
    "\n",
    "# Filter flights by date arrival time\n",
    "df_f = \n"
   ]
  },
  {
   "cell_type": "code",
   "execution_count": null,
   "id": "69a9138a-57b1-4c08-8dc2-f82c1bfa9e64",
   "metadata": {},
   "outputs": [],
   "source": [
    "# Merge AUAs (filed and actual) with flights of that day and airport\n",
    "df_f_auas_arrival = \n"
   ]
  },
  {
   "cell_type": "code",
   "execution_count": null,
   "id": "a65db79c-ef71-461c-ac7d-565d108b4c57",
   "metadata": {},
   "outputs": [],
   "source": [
    "## Keep last AUA of filed filtered\n",
    "\n",
    "\n",
    "\n",
    "# Count how many times each AUA appears\n",
    "\n"
   ]
  },
  {
   "cell_type": "code",
   "execution_count": null,
   "id": "bf73f175-cab1-4251-aa9e-6ef91a015dad",
   "metadata": {},
   "outputs": [],
   "source": [
    "# Write as AUA of interest the most used one as final AUA at arrival\n",
    "aua_interest = "
   ]
  },
  {
   "cell_type": "code",
   "execution_count": null,
   "id": "417dcc29-1d9e-4ab8-90bd-7c06fc6c5452",
   "metadata": {},
   "outputs": [],
   "source": [
    "## Go back to all trajectories and filter entry and exit times filed and actual in AUA and day of interest\n",
    "\n",
    "# Filter by aua interest\n",
    "df_f_auas = \n",
    "df_a_auas = \n",
    "\n",
    "# Transform entry and exit time to datetime\n",
    "\n",
    "\n",
    "# Filter by entry date = date of interest\n",
    "\n"
   ]
  },
  {
   "cell_type": "code",
   "execution_count": null,
   "id": "1d31738e-7c6d-469b-a667-5ca5fb064573",
   "metadata": {},
   "outputs": [],
   "source": [
    "## Count how many flights in AUA in 15, 30 and 60-minute windows\n",
    "\n",
    "\n",
    "f_inside_f_15 = \n",
    "f_inside_a_15 = \n",
    "f_inside_f_30 = \n",
    "f_inside_a_30 = \n",
    "f_inside_f_60 = \n",
    "f_inside_a_60 = \n"
   ]
  },
  {
   "cell_type": "code",
   "execution_count": null,
   "id": "0ada2938-1871-406b-ae16-55ecb948a616",
   "metadata": {},
   "outputs": [],
   "source": [
    "## Visualise number of flights inside AUA filed and actual as a function of time\n",
    "\n"
   ]
  },
  {
   "cell_type": "code",
   "execution_count": null,
   "id": "a56cd288-9120-4755-89b5-82e669778d2a",
   "metadata": {},
   "outputs": [],
   "source": []
  }
 ],
 "metadata": {
  "kernelspec": {
   "display_name": "trl_autumn_school",
   "language": "python",
   "name": "trl_autumn_school"
  },
  "language_info": {
   "codemirror_mode": {
    "name": "ipython",
    "version": 3
   },
   "file_extension": ".py",
   "mimetype": "text/x-python",
   "name": "python",
   "nbconvert_exporter": "python",
   "pygments_lexer": "ipython3",
   "version": "3.12.12"
  }
 },
 "nbformat": 4,
 "nbformat_minor": 5
}
