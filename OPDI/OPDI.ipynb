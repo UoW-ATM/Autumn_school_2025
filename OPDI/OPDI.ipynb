{
 "cells": [
  {
   "cell_type": "code",
   "execution_count": null,
   "id": "bba70f99-4d8e-4149-9235-2d528efe3836",
   "metadata": {},
   "outputs": [],
   "source": [
    "import pandas as pd"
   ]
  },
  {
   "cell_type": "code",
   "execution_count": null,
   "id": "06c025f0-39c5-45be-9cfd-bc1baecdc764",
   "metadata": {},
   "outputs": [],
   "source": [
    "# Airports\n",
    "df_airports = pd.read_csv('./data/airports.csv')\n",
    "df_airports.head()"
   ]
  },
  {
   "cell_type": "code",
   "execution_count": null,
   "id": "93b4c70e-96af-420d-b2e6-3937365083af",
   "metadata": {},
   "outputs": [],
   "source": [
    "df_airports[df_airports.ident=='EGKK']"
   ]
  },
  {
   "cell_type": "code",
   "execution_count": null,
   "id": "65eb2e11-e748-4e78-a86e-1e034c564261",
   "metadata": {},
   "outputs": [],
   "source": [
    "# Runways\n",
    "df_runways = pd.read_csv('./data/runways.csv')\n",
    "df_runways.head()"
   ]
  },
  {
   "cell_type": "code",
   "execution_count": null,
   "id": "d81db87b-ea6c-47c3-a786-7ac9cb6d97b9",
   "metadata": {},
   "outputs": [],
   "source": [
    "df_runways[df_runways.airport_ident=='EGKK']"
   ]
  },
  {
   "cell_type": "code",
   "execution_count": null,
   "id": "1eb0044d-b550-4187-a45f-922b106f5a25",
   "metadata": {},
   "outputs": [],
   "source": [
    "# Flights\n",
    "df_flights = pd.read_parquet('./data/flights/flight_list_202309.parquet')\n",
    "df_flights.head()"
   ]
  },
  {
   "cell_type": "code",
   "execution_count": null,
   "id": "09f2f001-c181-4d6e-b880-f339ae02ff9f",
   "metadata": {},
   "outputs": [],
   "source": [
    "df_flights[df_flights.adep=='EGKK']"
   ]
  },
  {
   "cell_type": "code",
   "execution_count": null,
   "id": "76d7f6d6-2b0b-4ab5-9c15-2e3eaeb37f50",
   "metadata": {},
   "outputs": [],
   "source": [
    "df_flights[df_flights.ades=='EDDF'].head(20)"
   ]
  },
  {
   "cell_type": "code",
   "execution_count": null,
   "id": "cb509a3f-dbc7-4826-92c5-2622ff171f87",
   "metadata": {},
   "outputs": [],
   "source": [
    "# Events\n",
    "df_events = pd.read_parquet('./data/events/flight_events_20230824_20230903.parquet')\n",
    "df_events.head()"
   ]
  },
  {
   "cell_type": "code",
   "execution_count": null,
   "id": "c1f81083-e449-4675-ac81-f9753fb3c7ae",
   "metadata": {},
   "outputs": [],
   "source": [
    "f_id = df_events.iloc[111639].flight_id\n",
    "df_events[df_events.flight_id==f_id].sort_values('event_time')"
   ]
  },
  {
   "cell_type": "code",
   "execution_count": null,
   "id": "4c56a4b3-58ed-4db9-8c1e-0c0b28f56eed",
   "metadata": {},
   "outputs": [],
   "source": [
    "from opdi_plots_utilities import plot_flight_trajectory_events\n",
    "# 8573 EGKK-LEIB\n",
    "# 2854 EGKK-EPKK\n",
    "# 7332 EGKK-xxxx\n",
    "# 8883 EGKK-xxxx\n",
    "# 2240 LCLK-EDDF\n",
    "# 737  xxxx-EDDF\n",
    "# 241  xxxx-EDDF\n",
    "# 111639 LEAL-EGCC\n",
    "\n",
    "f_id = df_flights.iloc[8883].id\n",
    "print(f_id)\n",
    "      \n",
    "fig, (ax_map, ax_vert) = plot_flight_trajectory_events(df_events, f_id)\n"
   ]
  },
  {
   "cell_type": "code",
   "execution_count": null,
   "id": "d167cfca-12c0-4e6d-a2ef-5db87e8d526f",
   "metadata": {},
   "outputs": [],
   "source": [
    "# Measurements\n",
    "df_measurements = pd.read_parquet('./data/measurements/measurements_20230824_20230903.parquet')\n",
    "df_measurements.head()"
   ]
  }
 ],
 "metadata": {
  "kernelspec": {
   "display_name": "trl_autumn_school",
   "language": "python",
   "name": "trl_autumn_school"
  },
  "language_info": {
   "codemirror_mode": {
    "name": "ipython",
    "version": 3
   },
   "file_extension": ".py",
   "mimetype": "text/x-python",
   "name": "python",
   "nbconvert_exporter": "python",
   "pygments_lexer": "ipython3",
   "version": "3.12.12"
  }
 },
 "nbformat": 4,
 "nbformat_minor": 5
}
